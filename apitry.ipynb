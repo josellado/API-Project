{
 "cells": [
  {
   "cell_type": "markdown",
   "metadata": {},
   "source": [
    "## Fill and obtain data,  to and from the API"
   ]
  },
  {
   "cell_type": "markdown",
   "metadata": {},
   "source": [
    "![first](img/first.jpg)"
   ]
  },
  {
   "cell_type": "code",
   "execution_count": 183,
   "metadata": {},
   "outputs": [],
   "source": [
    "from pymongo import MongoClient\n",
    "import pandas as pd\n",
    "import requests\n",
    "import json\n",
    "\n",
    "dbName = \"Pulpfiction\"\n",
    "mongoURL = f\"mongodb://localhost27017/{dbName}\"\n"
   ]
  },
  {
   "cell_type": "code",
   "execution_count": 184,
   "metadata": {},
   "outputs": [],
   "source": [
    "client = MongoClient()"
   ]
  },
  {
   "cell_type": "markdown",
   "metadata": {},
   "source": [
    "> Establish a connection with our PulpFiction DB in mongodb"
   ]
  },
  {
   "cell_type": "code",
   "execution_count": 185,
   "metadata": {},
   "outputs": [],
   "source": [
    "db = client.get_database(\"PulpFiction\")"
   ]
  },
  {
   "cell_type": "code",
   "execution_count": 186,
   "metadata": {},
   "outputs": [
    {
     "name": "stdout",
     "output_type": "stream",
     "text": [
      "<Response [200]>\n"
     ]
    }
   ],
   "source": [
    "url = f\"http://localhost:3000/\"\n",
    "res = requests.get(url)\n",
    "print(res)"
   ]
  },
  {
   "cell_type": "markdown",
   "metadata": {},
   "source": [
    "> Adding Characters. \n",
    "> In order to create new charcters the only thing need it is to replace the last keyword eg(vicent) for a new charcter of the film eg Marcellus"
   ]
  },
  {
   "cell_type": "code",
   "execution_count": 187,
   "metadata": {},
   "outputs": [
    {
     "name": "stdout",
     "output_type": "stream",
     "text": [
      "<Response [500]>\n"
     ]
    }
   ],
   "source": [
    "url_personaje = \"http://localhost:3000/personaje/create/vicent\"\n",
    "res= requests.get(url_personaje)\n",
    "print (res)\n"
   ]
  },
  {
   "cell_type": "code",
   "execution_count": 188,
   "metadata": {},
   "outputs": [
    {
     "name": "stdout",
     "output_type": "stream",
     "text": [
      "<Response [500]>\n"
     ]
    }
   ],
   "source": [
    "url_personaje = \"http://localhost:3000/personaje/create/jules\"\n",
    "res= requests.get(url_personaje)\n",
    "\n",
    "print (res)"
   ]
  },
  {
   "cell_type": "code",
   "execution_count": 189,
   "metadata": {},
   "outputs": [
    {
     "name": "stdout",
     "output_type": "stream",
     "text": [
      "<Response [500]>\n"
     ]
    }
   ],
   "source": [
    "url_personaje = \"http://localhost:3000/personaje/create/mia\"\n",
    "res= requests.get(url_personaje)\n",
    "\n",
    "print (res)"
   ]
  },
  {
   "cell_type": "code",
   "execution_count": 190,
   "metadata": {},
   "outputs": [
    {
     "name": "stdout",
     "output_type": "stream",
     "text": [
      "<Response [500]>\n"
     ]
    }
   ],
   "source": [
    "url_personaje = \"http://localhost:3000/personaje/create/fabienne\"\n",
    "res= requests.get(url_personaje)\n",
    "\n",
    "print (res)"
   ]
  },
  {
   "cell_type": "code",
   "execution_count": 191,
   "metadata": {},
   "outputs": [
    {
     "name": "stdout",
     "output_type": "stream",
     "text": [
      "<Response [500]>\n"
     ]
    }
   ],
   "source": [
    "url_personaje = \"http://localhost:3000/personaje/create/butch\"\n",
    "res= requests.get(url_personaje)\n",
    "\n",
    "print (res)"
   ]
  },
  {
   "cell_type": "markdown",
   "metadata": {},
   "source": [
    "> Creating a chat between different partipants, in these case will analyze the sentimental analysis  of the iconic dinner between the 2 vincent and mia "
   ]
  },
  {
   "cell_type": "code",
   "execution_count": 192,
   "metadata": {},
   "outputs": [],
   "source": [
    "hamburguer = { \"chat_name\": \"quarter_royale\",\n",
    "           \"participants\": [\"vicent\",\"jules\"]}\n",
    "              \n",
    "powder_nose = {\"chat_name\": \"powder_nose\",\n",
    "           \"participants\": [\"vincent\",\"mia\"]}\n",
    "\n",
    "watch_motel = { \"chat_name\": \"watch_motel\",\n",
    "           \"participants\": [\"butch\",\"fabienne\"]}\n",
    "\n",
    "\n"
   ]
  },
  {
   "cell_type": "code",
   "execution_count": 193,
   "metadata": {},
   "outputs": [],
   "source": [
    "participants= [\"vicent\", \"mia\"]\n",
    "dicti={\"participants\":participants, \"scene\": \"powder_nose\" }\n"
   ]
  },
  {
   "cell_type": "markdown",
   "metadata": {},
   "source": [
    "> Establish a connection 👏"
   ]
  },
  {
   "cell_type": "code",
   "execution_count": 194,
   "metadata": {},
   "outputs": [
    {
     "name": "stdout",
     "output_type": "stream",
     "text": [
      "<Response [200]>\n"
     ]
    },
    {
     "data": {
      "text/plain": [
       "'5f0cc771b7e33a95f8f8c107 is the new chat creator'"
      ]
     },
     "execution_count": 194,
     "metadata": {},
     "output_type": "execute_result"
    }
   ],
   "source": [
    "#http://localhost:3000/chat/create\n",
    "url_scene = \"http://localhost:3000/chat/create\"\n",
    "res = requests.get(url_scene, params= dicti)\n",
    "print(res)\n",
    "res.json()"
   ]
  },
  {
   "cell_type": "markdown",
   "metadata": {},
   "source": [
    "> Adding jules to the scene, in the original script it dosent occur but in a remake anything is possible 😝"
   ]
  },
  {
   "cell_type": "code",
   "execution_count": 211,
   "metadata": {},
   "outputs": [
    {
     "name": "stdout",
     "output_type": "stream",
     "text": [
      "<Response [500]>\n"
     ]
    }
   ],
   "source": [
    "\n",
    "conversation_id = \"5f0cc771b7e33a95f8f8c107\"\n",
    "user_id = \"jules\"\n",
    "url_add = f\"http://localhost:3000/personaje/{conversation_id}/addcharacter\"\n",
    "paramas = f'?user_id={user_id}'\n",
    "res = requests.get(url_add + paramas)\n",
    "print(res)\n",
    "#res.json()\n",
    "\n"
   ]
  },
  {
   "cell_type": "markdown",
   "metadata": {},
   "source": [
    "> Adding quotes to the characters "
   ]
  },
  {
   "cell_type": "markdown",
   "metadata": {},
   "source": [
    "![first](img/second.jpg)"
   ]
  },
  {
   "cell_type": "code",
   "execution_count": 215,
   "metadata": {},
   "outputs": [],
   "source": [
    "conversation_id= \"5f0cc771b7e33a95f8f8c107\"\n",
    "user_id=\"mia\"\n",
    "\n",
    "quote=[\"Don't you hate that?\", \"Uncomfortable silences. Why do we feel it's necessary to yak about bullshit in order to be comfortable\", \"That's when you know you found somebody special. When you can just shit the fuck up for a minute, and comfortably share silence\" , \"Well I'll tell you what, I'll go to the bathroom and powder my nose, while you sit here and think of something to say\"]\n"
   ]
  },
  {
   "cell_type": "code",
   "execution_count": 216,
   "metadata": {},
   "outputs": [
    {
     "name": "stdout",
     "output_type": "stream",
     "text": [
      "<Response [404]>\n"
     ]
    }
   ],
   "source": [
    "url_add = f\"http://localhost:3000/personaje/{conversation_id}/addquote\"\n",
    "for line in quote:\n",
    "    quote={\"conversation_id\":f'{conversation_id}', \"user_name\":f'{user_id}' , \"quote\":f'{line}'}\n",
    "    res = requests.post(url, data=quote)\n",
    "paramas = f'?user_id={user_id}'\n",
    "res = requests.get(url_add + paramas)\n",
    "print(res)\n",
    "#res.json()\n"
   ]
  },
  {
   "cell_type": "code",
   "execution_count": null,
   "metadata": {},
   "outputs": [],
   "source": []
  },
  {
   "cell_type": "code",
   "execution_count": null,
   "metadata": {},
   "outputs": [],
   "source": []
  }
 ],
 "metadata": {
  "kernelspec": {
   "display_name": "Python 3",
   "language": "python",
   "name": "python3"
  },
  "language_info": {
   "codemirror_mode": {
    "name": "ipython",
    "version": 3
   },
   "file_extension": ".py",
   "mimetype": "text/x-python",
   "name": "python",
   "nbconvert_exporter": "python",
   "pygments_lexer": "ipython3",
   "version": "3.8.2"
  }
 },
 "nbformat": 4,
 "nbformat_minor": 4
}
